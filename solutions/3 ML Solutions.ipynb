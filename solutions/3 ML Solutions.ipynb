{
 "cells": [
  {
   "cell_type": "markdown",
   "metadata": {},
   "source": [
    "## Exercise 1\n",
    "You've just been hired at a real estate investment firm and they would like you to build a model for pricing houses. You are given a dataset that contains data for house prices and a few features like number of bedrooms, size in square feet and age of the house. Let's see if you can build a model that is able to predict the price. In this exercise we extend what we have learned about linear regression to a dataset with more than one feature. Here are the steps to complete it:\n",
    "\n",
    "Load the dataset ../data/housing-data.csv\n",
    "plot the histograms for each feature\n",
    "create 2 variables called X and y: X shall be a matrix with 3 columns (sqft,bdrms,age) and y shall be a vector with 1 column (price)\n",
    "create a linear regression model in Keras with the appropriate number of inputs and output\n",
    "split the data into train and test with a 20% test size\n",
    "train the model on the training set and check its accuracy on training and test set\n",
    "how's your model doing? Is the loss growing smaller?\n",
    "try to improve your model with these experiments:\n",
    "normalize the input features with one of the rescaling techniques mentioned above\n",
    "use a different value for the learning rate of your model\n",
    "use a different optimizer\n",
    "once you're satisfied with training, check the R2score on the test set"
   ]
  }
 ],
 "metadata": {
  "kernelspec": {
   "display_name": "Python 3",
   "language": "python",
   "name": "python3"
  },
  "language_info": {
   "codemirror_mode": {
    "name": "ipython",
    "version": 3
   },
   "file_extension": ".py",
   "mimetype": "text/x-python",
   "name": "python",
   "nbconvert_exporter": "python",
   "pygments_lexer": "ipython3",
   "version": "3.7.1"
  }
 },
 "nbformat": 4,
 "nbformat_minor": 2
}
