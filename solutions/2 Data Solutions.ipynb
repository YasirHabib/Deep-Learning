{
 "cells": [
  {
   "cell_type": "markdown",
   "metadata": {},
   "source": [
    "## Exercise 1\n",
    "- load the dataset: `../data/international-airline-passengers.csv`\n",
    "- inspect it using the `.info()` and `.head()` commands\n",
    "- use the function [`pd.to_datetime()`](http://pandas.pydata.org/pandas-docs/version/0.20/generated/pandas.to_datetime.html) to change the column type of 'Month' to a datatime type\n",
    "- set the index of df to be a datetime index using the column 'Month' and the `df.set_index()` method\n",
    "- choose the appropriate plot and display the data\n",
    "- choose appropriate scale\n",
    "- label the axes"
   ]
  },
  {
   "cell_type": "code",
   "execution_count": 85,
   "metadata": {},
   "outputs": [
    {
     "name": "stdout",
     "output_type": "stream",
     "text": [
      "<class 'pandas.core.frame.DataFrame'>\n",
      "RangeIndex: 144 entries, 0 to 143\n",
      "Data columns (total 2 columns):\n",
      "Month                  144 non-null object\n",
      "Thousand Passengers    144 non-null int64\n",
      "dtypes: int64(1), object(1)\n",
      "memory usage: 2.3+ KB\n"
     ]
    }
   ],
   "source": [
    "import pandas as pd\n",
    "\n",
    "df = pd.read_csv('../data/international-airline-passengers.csv')\n",
    "df.info()"
   ]
  },
  {
   "cell_type": "code",
   "execution_count": 86,
   "metadata": {},
   "outputs": [
    {
     "name": "stdout",
     "output_type": "stream",
     "text": [
      "     Month  Thousand Passengers\n",
      "0  1949-01                  112\n",
      "1  1949-02                  118\n",
      "2  1949-03                  132\n",
      "3  1949-04                  129\n",
      "4  1949-05                  121 \n",
      "\n",
      "       Month  Thousand Passengers\n",
      "139  1960-08                  606\n",
      "140  1960-09                  508\n",
      "141  1960-10                  461\n",
      "142  1960-11                  390\n",
      "143  1960-12                  432\n"
     ]
    }
   ],
   "source": [
    "print(df.head(),'\\n')\n",
    "print(df.tail())"
   ]
  },
  {
   "cell_type": "code",
   "execution_count": 87,
   "metadata": {},
   "outputs": [
    {
     "name": "stdout",
     "output_type": "stream",
     "text": [
      "       Thousand Passengers\n",
      "count           144.000000\n",
      "mean            280.298611\n",
      "std             119.966317\n",
      "min             104.000000\n",
      "25%             180.000000\n",
      "50%             265.500000\n",
      "75%             360.500000\n",
      "max             622.000000 \n",
      "\n",
      "Month                  object\n",
      "Thousand Passengers     int64\n",
      "dtype: object\n"
     ]
    }
   ],
   "source": [
    "print(df.describe(),'\\n')\n",
    "print(df.dtypes)"
   ]
  },
  {
   "cell_type": "code",
   "execution_count": 89,
   "metadata": {},
   "outputs": [
    {
     "name": "stdout",
     "output_type": "stream",
     "text": [
      "<class 'pandas.core.frame.DataFrame'>\n",
      "RangeIndex: 144 entries, 0 to 143\n",
      "Data columns (total 2 columns):\n",
      "Month                  144 non-null datetime64[ns]\n",
      "Thousand Passengers    144 non-null int64\n",
      "dtypes: datetime64[ns](1), int64(1)\n",
      "memory usage: 2.3 KB\n",
      "None \n",
      "\n"
     ]
    },
    {
     "data": {
      "text/html": [
       "<div>\n",
       "<style scoped>\n",
       "    .dataframe tbody tr th:only-of-type {\n",
       "        vertical-align: middle;\n",
       "    }\n",
       "\n",
       "    .dataframe tbody tr th {\n",
       "        vertical-align: top;\n",
       "    }\n",
       "\n",
       "    .dataframe thead th {\n",
       "        text-align: right;\n",
       "    }\n",
       "</style>\n",
       "<table border=\"1\" class=\"dataframe\">\n",
       "  <thead>\n",
       "    <tr style=\"text-align: right;\">\n",
       "      <th></th>\n",
       "      <th>Month</th>\n",
       "      <th>Thousand Passengers</th>\n",
       "    </tr>\n",
       "  </thead>\n",
       "  <tbody>\n",
       "    <tr>\n",
       "      <th>0</th>\n",
       "      <td>1949-01-01</td>\n",
       "      <td>112</td>\n",
       "    </tr>\n",
       "    <tr>\n",
       "      <th>1</th>\n",
       "      <td>1949-02-01</td>\n",
       "      <td>118</td>\n",
       "    </tr>\n",
       "    <tr>\n",
       "      <th>2</th>\n",
       "      <td>1949-03-01</td>\n",
       "      <td>132</td>\n",
       "    </tr>\n",
       "    <tr>\n",
       "      <th>3</th>\n",
       "      <td>1949-04-01</td>\n",
       "      <td>129</td>\n",
       "    </tr>\n",
       "    <tr>\n",
       "      <th>4</th>\n",
       "      <td>1949-05-01</td>\n",
       "      <td>121</td>\n",
       "    </tr>\n",
       "  </tbody>\n",
       "</table>\n",
       "</div>"
      ],
      "text/plain": [
       "       Month  Thousand Passengers\n",
       "0 1949-01-01                  112\n",
       "1 1949-02-01                  118\n",
       "2 1949-03-01                  132\n",
       "3 1949-04-01                  129\n",
       "4 1949-05-01                  121"
      ]
     },
     "execution_count": 89,
     "metadata": {},
     "output_type": "execute_result"
    }
   ],
   "source": [
    "df[\"Month\"] = pd.to_datetime(df[\"Month\"])\n",
    "\n",
    "print(df.info(),'\\n')\n",
    "df.head()"
   ]
  },
  {
   "cell_type": "code",
   "execution_count": 90,
   "metadata": {},
   "outputs": [
    {
     "name": "stdout",
     "output_type": "stream",
     "text": [
      "<class 'pandas.core.frame.DataFrame'>\n",
      "DatetimeIndex: 144 entries, 1949-01-01 to 1960-12-01\n",
      "Data columns (total 1 columns):\n",
      "Thousand Passengers    144 non-null int64\n",
      "dtypes: int64(1)\n",
      "memory usage: 2.2 KB\n",
      "None \n",
      "\n"
     ]
    },
    {
     "data": {
      "text/html": [
       "<div>\n",
       "<style scoped>\n",
       "    .dataframe tbody tr th:only-of-type {\n",
       "        vertical-align: middle;\n",
       "    }\n",
       "\n",
       "    .dataframe tbody tr th {\n",
       "        vertical-align: top;\n",
       "    }\n",
       "\n",
       "    .dataframe thead th {\n",
       "        text-align: right;\n",
       "    }\n",
       "</style>\n",
       "<table border=\"1\" class=\"dataframe\">\n",
       "  <thead>\n",
       "    <tr style=\"text-align: right;\">\n",
       "      <th></th>\n",
       "      <th>Thousand Passengers</th>\n",
       "    </tr>\n",
       "    <tr>\n",
       "      <th>Month</th>\n",
       "      <th></th>\n",
       "    </tr>\n",
       "  </thead>\n",
       "  <tbody>\n",
       "    <tr>\n",
       "      <th>1949-01-01</th>\n",
       "      <td>112</td>\n",
       "    </tr>\n",
       "    <tr>\n",
       "      <th>1949-02-01</th>\n",
       "      <td>118</td>\n",
       "    </tr>\n",
       "    <tr>\n",
       "      <th>1949-03-01</th>\n",
       "      <td>132</td>\n",
       "    </tr>\n",
       "    <tr>\n",
       "      <th>1949-04-01</th>\n",
       "      <td>129</td>\n",
       "    </tr>\n",
       "    <tr>\n",
       "      <th>1949-05-01</th>\n",
       "      <td>121</td>\n",
       "    </tr>\n",
       "  </tbody>\n",
       "</table>\n",
       "</div>"
      ],
      "text/plain": [
       "            Thousand Passengers\n",
       "Month                          \n",
       "1949-01-01                  112\n",
       "1949-02-01                  118\n",
       "1949-03-01                  132\n",
       "1949-04-01                  129\n",
       "1949-05-01                  121"
      ]
     },
     "execution_count": 90,
     "metadata": {},
     "output_type": "execute_result"
    }
   ],
   "source": [
    "df = df.set_index('Month')\n",
    "\n",
    "print(df.info(),'\\n')\n",
    "df.head()"
   ]
  },
  {
   "cell_type": "code",
   "execution_count": 96,
   "metadata": {},
   "outputs": [
    {
     "data": {
      "text/plain": [
       "<matplotlib.axes._subplots.AxesSubplot at 0x293b42f8940>"
      ]
     },
     "execution_count": 96,
     "metadata": {},
     "output_type": "execute_result"
    },
    {
     "data": {
      "image/png": "[encoded data removed]",
      "text/plain": [
       "<Figure size 432x288 with 1 Axes>"
      ]
     },
     "metadata": {
      "needs_background": "light"
     },
     "output_type": "display_data"
    }
   ],
   "source": [
    "df.plot()"
   ]
  },
  {
   "cell_type": "code",
   "execution_count": 103,
   "metadata": {},
   "outputs": [
    {
     "data": {
      "text/plain": [
       "<matplotlib.axes._subplots.AxesSubplot at 0x293b34b26d8>"
      ]
     },
     "execution_count": 103,
     "metadata": {},
     "output_type": "execute_result"
    },
    {
     "data": {
      "image/png": "[encoded data removed]",
      "text/plain": [
       "<Figure size 432x288 with 1 Axes>"
      ]
     },
     "metadata": {
      "needs_background": "light"
     },
     "output_type": "display_data"
    }
   ],
   "source": [
    "df.plot.hist(alpha=0.8)"
   ]
  },
  {
   "cell_type": "markdown",
   "metadata": {},
   "source": [
    "## Exercise 2\n",
    "- load the dataset: `../data/weight-height.csv`\n",
    "- inspect it\n",
    "- plot it using a scatter plot with Weight as a function of Height\n",
    "- plot the male and female populations with 2 different colors on a new scatter plot\n",
    "- remember to label the axes"
   ]
  },
  {
   "cell_type": "code",
   "execution_count": 89,
   "metadata": {},
   "outputs": [
    {
     "name": "stdout",
     "output_type": "stream",
     "text": [
      "<class 'pandas.core.frame.DataFrame'>\n",
      "RangeIndex: 10000 entries, 0 to 9999\n",
      "Data columns (total 3 columns):\n",
      "Gender    10000 non-null object\n",
      "Height    10000 non-null float64\n",
      "Weight    10000 non-null float64\n",
      "dtypes: float64(2), object(1)\n",
      "memory usage: 234.5+ KB\n"
     ]
    }
   ],
   "source": [
    "import pandas as pd\n",
    "\n",
    "df = pd.read_csv('../data/weight-height.csv')\n",
    "df.info()"
   ]
  },
  {
   "cell_type": "code",
   "execution_count": 90,
   "metadata": {},
   "outputs": [
    {
     "name": "stdout",
     "output_type": "stream",
     "text": [
      "  Gender     Height      Weight\n",
      "0   Male  73.847017  241.893563\n",
      "1   Male  68.781904  162.310473\n",
      "2   Male  74.110105  212.740856\n",
      "3   Male  71.730978  220.042470\n",
      "4   Male  69.881796  206.349801 \n",
      "\n",
      "      Gender     Height      Weight\n",
      "9995  Female  66.172652  136.777454\n",
      "9996  Female  67.067155  170.867906\n",
      "9997  Female  63.867992  128.475319\n",
      "9998  Female  69.034243  163.852461\n",
      "9999  Female  61.944246  113.649103\n"
     ]
    }
   ],
   "source": [
    "print(df.head(),'\\n')\n",
    "print(df.tail())"
   ]
  },
  {
   "cell_type": "code",
   "execution_count": 91,
   "metadata": {},
   "outputs": [
    {
     "name": "stdout",
     "output_type": "stream",
     "text": [
      "             Height        Weight\n",
      "count  10000.000000  10000.000000\n",
      "mean      66.367560    161.440357\n",
      "std        3.847528     32.108439\n",
      "min       54.263133     64.700127\n",
      "25%       63.505620    135.818051\n",
      "50%       66.318070    161.212928\n",
      "75%       69.174262    187.169525\n",
      "max       78.998742    269.989699 \n",
      "\n",
      "Gender     object\n",
      "Height    float64\n",
      "Weight    float64\n",
      "dtype: object\n"
     ]
    }
   ],
   "source": [
    "print(df.describe(),'\\n')\n",
    "print(df.dtypes)"
   ]
  },
  {
   "cell_type": "code",
   "execution_count": 92,
   "metadata": {},
   "outputs": [
    {
     "data": {
      "text/plain": [
       "<matplotlib.axes._subplots.AxesSubplot at 0x29ae83166a0>"
      ]
     },
     "execution_count": 92,
     "metadata": {},
     "output_type": "execute_result"
    },
    {
     "data": {
      "image/png": "[encoded data removed]",
      "text/plain": [
       "<Figure size 432x288 with 1 Axes>"
      ]
     },
     "metadata": {
      "needs_background": "light"
     },
     "output_type": "display_data"
    }
   ],
   "source": [
    "df.plot.scatter('Height', 'Weight')"
   ]
  },
  {
   "cell_type": "code",
   "execution_count": 93,
   "metadata": {},
   "outputs": [
    {
     "data": {
      "text/plain": [
       "<matplotlib.axes._subplots.AxesSubplot at 0x29ae84e2860>"
      ]
     },
     "execution_count": 93,
     "metadata": {},
     "output_type": "execute_result"
    },
    {
     "data": {
      "image/png": "[encoded data removed]",
      "text/plain": [
       "<Figure size 432x288 with 1 Axes>"
      ]
     },
     "metadata": {
      "needs_background": "light"
     },
     "output_type": "display_data"
    }
   ],
   "source": [
    "column = df['Gender'].map({'Male':'red', 'Female':'blue'})\n",
    "\n",
    "df.plot.scatter('Height', 'Weight', c=column, alpha=0.3, title='Male & Female Populations')"
   ]
  },
  {
   "cell_type": "code",
   "execution_count": 94,
   "metadata": {},
   "outputs": [
    {
     "data": {
      "text/plain": [
       "<matplotlib.axes._subplots.AxesSubplot at 0x29ae8527fd0>"
      ]
     },
     "execution_count": 94,
     "metadata": {},
     "output_type": "execute_result"
    },
    {
     "data": {
      "image/png": "[encoded data removed]",
      "text/plain": [
       "<Figure size 432x288 with 1 Axes>"
      ]
     },
     "metadata": {
      "needs_background": "light"
     },
     "output_type": "display_data"
    }
   ],
   "source": [
    "df.plot(kind='scatter', \n",
    "        x='Height',\n",
    "        y='Weight',\n",
    "        c=column,\n",
    "        alpha=0.3,\n",
    "        title='Male & Female Populations')"
   ]
  },
  {
   "cell_type": "markdown",
   "metadata": {},
   "source": [
    "## Exercise 3\n",
    "- plot the histogram of the heights for males and for females on the same plot\n",
    "- use alpha to control transparency in the plot comand\n",
    "- plot a vertical line at the mean of each population using `plt.axvline()`"
   ]
  },
  {
   "cell_type": "code",
   "execution_count": 95,
   "metadata": {},
   "outputs": [
    {
     "name": "stdout",
     "output_type": "stream",
     "text": [
      "     Gender     Height      Weight\n",
      "0      Male  73.847017  241.893563\n",
      "1      Male  68.781904  162.310473\n",
      "2      Male  74.110105  212.740856\n",
      "3      Male  71.730978  220.042470\n",
      "4      Male  69.881796  206.349801\n",
      "5      Male  67.253016  152.212156\n",
      "6      Male  68.785081  183.927889\n",
      "7      Male  68.348516  167.971110\n",
      "8      Male  67.018950  175.929440\n",
      "9      Male  63.456494  156.399676\n",
      "10     Male  71.195382  186.604926\n",
      "11     Male  71.640805  213.741169\n",
      "12     Male  64.766329  167.127461\n",
      "13     Male  69.283070  189.446181\n",
      "14     Male  69.243732  186.434168\n",
      "15     Male  67.645620  172.186930\n",
      "16     Male  72.418317  196.028506\n",
      "17     Male  63.974326  172.883470\n",
      "18     Male  69.640060  185.983958\n",
      "19     Male  67.936005  182.426648\n",
      "20     Male  67.915050  174.115929\n",
      "21     Male  69.439440  197.731422\n",
      "22     Male  66.149132  149.173566\n",
      "23     Male  75.205974  228.761781\n",
      "24     Male  67.893196  162.006652\n",
      "25     Male  68.144033  192.343977\n",
      "26     Male  69.089631  184.435174\n",
      "27     Male  72.800844  206.828189\n",
      "28     Male  67.421242  175.213922\n",
      "29     Male  68.496415  154.342639\n",
      "...     ...        ...         ...\n",
      "4970   Male  68.912831  180.823138\n",
      "4971   Male  65.418334  160.770309\n",
      "4972   Male  70.437177  200.204734\n",
      "4973   Male  71.268931  189.307461\n",
      "4974   Male  68.359811  174.198289\n",
      "4975   Male  73.339590  217.061053\n",
      "4976   Male  72.300190  213.229452\n",
      "4977   Male  74.043290  219.337909\n",
      "4978   Male  68.302839  193.702694\n",
      "4979   Male  65.142314  171.616710\n",
      "4980   Male  60.614115  156.458355\n",
      "4981   Male  68.974481  192.129880\n",
      "4982   Male  69.484563  188.855206\n",
      "4983   Male  65.001413  161.029416\n",
      "4984   Male  70.213375  197.500019\n",
      "4985   Male  64.992892  138.924173\n",
      "4986   Male  71.644419  190.063286\n",
      "4987   Male  72.616816  224.857902\n",
      "4988   Male  71.046562  191.274562\n",
      "4989   Male  72.726342  218.766294\n",
      "4990   Male  69.119831  176.665959\n",
      "4991   Male  68.973942  182.312209\n",
      "4992   Male  71.530978  203.820261\n",
      "4993   Male  65.327337  171.762518\n",
      "4994   Male  73.092871  193.944181\n",
      "4995   Male  68.860062  177.131052\n",
      "4996   Male  68.973423  159.285228\n",
      "4997   Male  67.013795  199.195400\n",
      "4998   Male  71.557718  185.905909\n",
      "4999   Male  70.351880  198.903012\n",
      "\n",
      "[5000 rows x 3 columns] \n",
      "\n",
      "     Gender     Height      Weight\n",
      "0      Male  73.847017  241.893563\n",
      "1      Male  68.781904  162.310473\n",
      "2      Male  74.110105  212.740856\n",
      "3      Male  71.730978  220.042470\n",
      "4      Male  69.881796  206.349801\n",
      "5      Male  67.253016  152.212156\n",
      "6      Male  68.785081  183.927889\n",
      "7      Male  68.348516  167.971110\n",
      "8      Male  67.018950  175.929440\n",
      "9      Male  63.456494  156.399676\n",
      "10     Male  71.195382  186.604926\n",
      "11     Male  71.640805  213.741169\n",
      "12     Male  64.766329  167.127461\n",
      "13     Male  69.283070  189.446181\n",
      "14     Male  69.243732  186.434168\n",
      "15     Male  67.645620  172.186930\n",
      "16     Male  72.418317  196.028506\n",
      "17     Male  63.974326  172.883470\n",
      "18     Male  69.640060  185.983958\n",
      "19     Male  67.936005  182.426648\n",
      "20     Male  67.915050  174.115929\n",
      "21     Male  69.439440  197.731422\n",
      "22     Male  66.149132  149.173566\n",
      "23     Male  75.205974  228.761781\n",
      "24     Male  67.893196  162.006652\n",
      "25     Male  68.144033  192.343977\n",
      "26     Male  69.089631  184.435174\n",
      "27     Male  72.800844  206.828189\n",
      "28     Male  67.421242  175.213922\n",
      "29     Male  68.496415  154.342639\n",
      "...     ...        ...         ...\n",
      "4970   Male  68.912831  180.823138\n",
      "4971   Male  65.418334  160.770309\n",
      "4972   Male  70.437177  200.204734\n",
      "4973   Male  71.268931  189.307461\n",
      "4974   Male  68.359811  174.198289\n",
      "4975   Male  73.339590  217.061053\n",
      "4976   Male  72.300190  213.229452\n",
      "4977   Male  74.043290  219.337909\n",
      "4978   Male  68.302839  193.702694\n",
      "4979   Male  65.142314  171.616710\n",
      "4980   Male  60.614115  156.458355\n",
      "4981   Male  68.974481  192.129880\n",
      "4982   Male  69.484563  188.855206\n",
      "4983   Male  65.001413  161.029416\n",
      "4984   Male  70.213375  197.500019\n",
      "4985   Male  64.992892  138.924173\n",
      "4986   Male  71.644419  190.063286\n",
      "4987   Male  72.616816  224.857902\n",
      "4988   Male  71.046562  191.274562\n",
      "4989   Male  72.726342  218.766294\n",
      "4990   Male  69.119831  176.665959\n",
      "4991   Male  68.973942  182.312209\n",
      "4992   Male  71.530978  203.820261\n",
      "4993   Male  65.327337  171.762518\n",
      "4994   Male  73.092871  193.944181\n",
      "4995   Male  68.860062  177.131052\n",
      "4996   Male  68.973423  159.285228\n",
      "4997   Male  67.013795  199.195400\n",
      "4998   Male  71.557718  185.905909\n",
      "4999   Male  70.351880  198.903012\n",
      "\n",
      "[5000 rows x 3 columns]\n"
     ]
    }
   ],
   "source": [
    "print(df[df['Gender']=='Male'], '\\n')\n",
    "print(df[df['Gender']=='Male'])"
   ]
  },
  {
   "cell_type": "code",
   "execution_count": 96,
   "metadata": {},
   "outputs": [
    {
     "name": "stdout",
     "output_type": "stream",
     "text": [
      "0       73.847017\n",
      "1       68.781904\n",
      "2       74.110105\n",
      "3       71.730978\n",
      "4       69.881796\n",
      "5       67.253016\n",
      "6       68.785081\n",
      "7       68.348516\n",
      "8       67.018950\n",
      "9       63.456494\n",
      "10      71.195382\n",
      "11      71.640805\n",
      "12      64.766329\n",
      "13      69.283070\n",
      "14      69.243732\n",
      "15      67.645620\n",
      "16      72.418317\n",
      "17      63.974326\n",
      "18      69.640060\n",
      "19      67.936005\n",
      "20      67.915050\n",
      "21      69.439440\n",
      "22      66.149132\n",
      "23      75.205974\n",
      "24      67.893196\n",
      "25      68.144033\n",
      "26      69.089631\n",
      "27      72.800844\n",
      "28      67.421242\n",
      "29      68.496415\n",
      "          ...    \n",
      "4970    68.912831\n",
      "4971    65.418334\n",
      "4972    70.437177\n",
      "4973    71.268931\n",
      "4974    68.359811\n",
      "4975    73.339590\n",
      "4976    72.300190\n",
      "4977    74.043290\n",
      "4978    68.302839\n",
      "4979    65.142314\n",
      "4980    60.614115\n",
      "4981    68.974481\n",
      "4982    69.484563\n",
      "4983    65.001413\n",
      "4984    70.213375\n",
      "4985    64.992892\n",
      "4986    71.644419\n",
      "4987    72.616816\n",
      "4988    71.046562\n",
      "4989    72.726342\n",
      "4990    69.119831\n",
      "4991    68.973942\n",
      "4992    71.530978\n",
      "4993    65.327337\n",
      "4994    73.092871\n",
      "4995    68.860062\n",
      "4996    68.973423\n",
      "4997    67.013795\n",
      "4998    71.557718\n",
      "4999    70.351880\n",
      "Name: Height, Length: 5000, dtype: float64 \n",
      "\n",
      "5000    58.910732\n",
      "5001    65.230013\n",
      "5002    63.369004\n",
      "5003    64.479997\n",
      "5004    61.793096\n",
      "5005    65.968019\n",
      "5006    62.850379\n",
      "5007    65.652156\n",
      "5008    61.890234\n",
      "5009    63.677868\n",
      "5010    68.101172\n",
      "5011    61.798879\n",
      "5012    63.371459\n",
      "5013    58.895886\n",
      "5014    58.438249\n",
      "5015    60.809799\n",
      "5016    70.128653\n",
      "5017    62.257430\n",
      "5018    61.735090\n",
      "5019    63.059557\n",
      "5020    62.286838\n",
      "5021    61.827478\n",
      "5022    66.347537\n",
      "5023    65.320632\n",
      "5024    66.103873\n",
      "5025    64.527182\n",
      "5026    56.547975\n",
      "5027    62.739281\n",
      "5028    61.585199\n",
      "5029    62.024425\n",
      "          ...    \n",
      "9970    65.618737\n",
      "9971    64.640247\n",
      "9972    60.653733\n",
      "9973    60.737031\n",
      "9974    65.393947\n",
      "9975    66.251923\n",
      "9976    61.475904\n",
      "9977    64.494838\n",
      "9978    57.375759\n",
      "9979    62.056012\n",
      "9980    60.472262\n",
      "9981    60.443264\n",
      "9982    69.868511\n",
      "9983    65.830726\n",
      "9984    59.047029\n",
      "9985    68.041065\n",
      "9986    63.352698\n",
      "9987    65.610243\n",
      "9988    59.538729\n",
      "9989    60.955084\n",
      "9990    63.179498\n",
      "9991    62.636675\n",
      "9992    62.077832\n",
      "9993    60.030434\n",
      "9994    59.098250\n",
      "9995    66.172652\n",
      "9996    67.067155\n",
      "9997    63.867992\n",
      "9998    69.034243\n",
      "9999    61.944246\n",
      "Name: Height, Length: 5000, dtype: float64\n"
     ]
    }
   ],
   "source": [
    "print(df[df['Gender']=='Male']['Height'], '\\n')\n",
    "print(df[df['Gender']=='Female']['Height'])"
   ]
  },
  {
   "cell_type": "code",
   "execution_count": 97,
   "metadata": {},
   "outputs": [
    {
     "data": {
      "text/plain": [
       "<matplotlib.lines.Line2D at 0x29ae859ee80>"
      ]
     },
     "execution_count": 97,
     "metadata": {},
     "output_type": "execute_result"
    },
    {
     "data": {
      "image/png": "[encoded data removed]",
      "text/plain": [
       "<Figure size 432x288 with 1 Axes>"
      ]
     },
     "metadata": {
      "needs_background": "light"
     },
     "output_type": "display_data"
    }
   ],
   "source": [
    "male_height = df[df['Gender']=='Male']['Height']\n",
    "female_height = df[df['Gender']=='Female']['Height']\n",
    "\n",
    "male_height.plot(\n",
    "    kind='hist',\n",
    "    bins=50,\n",
    "    range=(50, 80),\n",
    "    alpha=0.5,\n",
    "    color='blue')\n",
    "\n",
    "female_height.plot(\n",
    "    kind='hist',\n",
    "    bins=50,\n",
    "    range=(50, 80),\n",
    "    alpha=0.5,\n",
    "    color='red')\n",
    "\n",
    "plt.title('Height distribution of Male & Female Populations')\n",
    "plt.legend(['Males', 'Females'])\n",
    "plt.xlabel('Heigth')\n",
    "\n",
    "plt.axvline(male_height.mean(), color='blue', linewidth=3)\n",
    "plt.axvline(female_height.mean(), color='red', linewidth=3)"
   ]
  },
  {
   "cell_type": "markdown",
   "metadata": {},
   "source": [
    "## Exercise 4\n",
    "- plot the weights of the males and females using a box plot\n",
    "- which one is easier to read?\n",
    "- (remember to put in titles, axes and legends)"
   ]
  },
  {
   "cell_type": "markdown",
   "metadata": {},
   "source": [
    "## Exercise 5\n",
    "- load the dataset: `../data/titanic-train.csv`\n",
    "- learn about scattermatrix here: http://pandas.pydata.org/pandas-docs/stable/visualization.html\n",
    "- display the data using a scattermatrix"
   ]
  }
 ],
 "metadata": {
  "kernelspec": {
   "display_name": "Python 3",
   "language": "python",
   "name": "python3"
  },
  "language_info": {
   "codemirror_mode": {
    "name": "ipython",
    "version": 3
   },
   "file_extension": ".py",
   "mimetype": "text/x-python",
   "name": "python",
   "nbconvert_exporter": "python",
   "pygments_lexer": "ipython3",
   "version": "3.7.1"
  }
 },
 "nbformat": 4,
 "nbformat_minor": 2
}
